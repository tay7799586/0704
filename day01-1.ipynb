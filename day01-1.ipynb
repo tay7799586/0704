{
 "cells": [
  {
   "cell_type": "code",
   "execution_count": 1,
   "id": "94bbbe20",
   "metadata": {},
   "outputs": [],
   "source": [
    "import requests\n",
    "url=\"https://www.nkust.edu.tw/p/406-1000-59817,r1363.php\"\n",
    "html=requests.get(url).text"
   ]
  },
  {
   "cell_type": "code",
   "execution_count": 7,
   "id": "66356e1f",
   "metadata": {},
   "outputs": [],
   "source": [
    "sel = \"section > div.mcont > div > p\"\n",
    "from bs4 import BeautifulSoup\n",
    "soup = BeautifulSoup(html, \"html.parser\")\n",
    "data = soup.select(sel)\n",
    "data=[str(d.text) for d in data]\n",
    "target=\"\\n\".join(data)\n",
    "with open('mynews.txt', \"w\" ,encoding=\"utf-8\") as fp:\n",
    "    fp.write(target)"
   ]
  },
  {
   "cell_type": "code",
   "execution_count": null,
   "id": "0654182d",
   "metadata": {},
   "outputs": [],
   "source": []
  },
  {
   "cell_type": "code",
   "execution_count": null,
   "id": "868e8fec",
   "metadata": {},
   "outputs": [],
   "source": []
  }
 ],
 "metadata": {
  "kernelspec": {
   "display_name": "Python 3 (ipykernel)",
   "language": "python",
   "name": "python3"
  },
  "language_info": {
   "codemirror_mode": {
    "name": "ipython",
    "version": 3
   },
   "file_extension": ".py",
   "mimetype": "text/x-python",
   "name": "python",
   "nbconvert_exporter": "python",
   "pygments_lexer": "ipython3",
   "version": "3.9.12"
  }
 },
 "nbformat": 4,
 "nbformat_minor": 5
}
